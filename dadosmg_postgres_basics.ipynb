{
 "cells": [
  {
   "cell_type": "markdown",
   "id": "4ed20390",
   "metadata": {},
   "source": [
    "# TUTORIAL DE SQLITE NO CONTEXTO DO SPREADMART ORÇAMENTÁRIO"
   ]
  },
  {
   "cell_type": "markdown",
   "id": "07b65407",
   "metadata": {},
   "source": [
    "## TO DO\n",
    "1. Clausulas SQL para somente criar ou deletar tabelas caso não já exisitam"
   ]
  },
  {
   "cell_type": "markdown",
   "id": "1ff0b69f",
   "metadata": {},
   "source": [
    "## Imports"
   ]
  },
  {
   "cell_type": "code",
   "execution_count": 1,
   "id": "5a50f979",
   "metadata": {},
   "outputs": [],
   "source": [
    "import pandas as pd\n",
    "import glob\n",
    "import time\n",
    "import psycopg2\n",
    "import os"
   ]
  },
  {
   "cell_type": "markdown",
   "id": "934162d7",
   "metadata": {},
   "source": [
    "## Constants"
   ]
  },
  {
   "cell_type": "code",
   "execution_count": 2,
   "id": "6dbd997c",
   "metadata": {},
   "outputs": [],
   "source": [
    "DB_NAME = 'dadosmg'\n",
    "CSV_PATH = 'datasets\\\\'"
   ]
  },
  {
   "cell_type": "markdown",
   "id": "3e4f095d",
   "metadata": {},
   "source": [
    "## Conectar ao Postgres"
   ]
  },
  {
   "cell_type": "code",
   "execution_count": 3,
   "id": "a79b8021",
   "metadata": {},
   "outputs": [],
   "source": [
    "conn = psycopg2.connect(\"user=postgres password=postgres\")\n",
    "cur = conn.cursor() #cursor para realizar consultas (mais otimizado que usar con)"
   ]
  },
  {
   "cell_type": "markdown",
   "id": "8de4084f",
   "metadata": {},
   "source": [
    "## Comandos básicos"
   ]
  },
  {
   "cell_type": "code",
   "execution_count": 4,
   "id": "5392b8a8",
   "metadata": {},
   "outputs": [],
   "source": [
    "# Execute a command: this creates a new table\n",
    "cur.execute(f\"CREATE TABLE {DB_NAME} (id serial PRIMARY KEY, num integer, data varchar);\")"
   ]
  },
  {
   "cell_type": "code",
   "execution_count": 5,
   "id": "d311be80",
   "metadata": {},
   "outputs": [],
   "source": [
    "# Pass data to fill a query placeholders and let Psycopg perform\n",
    "# the correct conversion (no more SQL injections!)\n",
    "cur.execute(f\"INSERT INTO {DB_NAME} (num, data) VALUES (%s, %s)\", (100, \"abc'def\"))"
   ]
  },
  {
   "cell_type": "code",
   "execution_count": 7,
   "id": "9700ad02",
   "metadata": {},
   "outputs": [
    {
     "name": "stdout",
     "output_type": "stream",
     "text": [
      "(1, 100, \"abc'def\")\n"
     ]
    }
   ],
   "source": [
    "# Query the database and obtain data as Python objects\n",
    "cur.execute(f\"SELECT * FROM {DB_NAME};\")\n",
    "row = cur.fetchone()\n",
    "while row is not None:\n",
    "    print(row)\n",
    "    row = cur.fetchone()"
   ]
  },
  {
   "cell_type": "code",
   "execution_count": 24,
   "id": "eaf161bc",
   "metadata": {},
   "outputs": [],
   "source": [
    "# SITUATIONAL: When a query produces an error you can't run another command until rolling back the transaction\n",
    "conn.rollback()"
   ]
  },
  {
   "cell_type": "code",
   "execution_count": 8,
   "id": "ffb296b5",
   "metadata": {},
   "outputs": [],
   "source": [
    "# Make the changes to the database persistent\n",
    "conn.commit()"
   ]
  },
  {
   "cell_type": "code",
   "execution_count": 9,
   "id": "4e7853d8",
   "metadata": {},
   "outputs": [],
   "source": [
    "# Close communication with the database\n",
    "cur.close()\n",
    "conn.close()"
   ]
  },
  {
   "cell_type": "markdown",
   "id": "217d03e3",
   "metadata": {},
   "source": [
    "## Mostrar todas as tabelas de uma database"
   ]
  },
  {
   "cell_type": "code",
   "execution_count": 15,
   "id": "691b7203",
   "metadata": {},
   "outputs": [],
   "source": [
    "conn = psycopg2.connect(\"user=postgres password=postgres\")\n",
    "cur = conn.cursor() #cursor para realizar consultas (mais otimizado que usar con)\n",
    "\n",
    "cur.execute(\"\"\"\n",
    "    SELECT table_name \n",
    "    FROM information_schema.tables \n",
    "    WHERE table_schema = 'public'\"\"\")\n",
    "\n",
    "for table in cur.fetchall():\n",
    "    print(table)"
   ]
  },
  {
   "cell_type": "markdown",
   "id": "97be8733",
   "metadata": {},
   "source": [
    "## Apagar todas as tabelas caso existam"
   ]
  },
  {
   "cell_type": "code",
   "execution_count": 16,
   "id": "836511ec",
   "metadata": {},
   "outputs": [
    {
     "name": "stdout",
     "output_type": "stream",
     "text": [
      "Não há tabelas em dadosmg\n"
     ]
    }
   ],
   "source": [
    "cur.execute(\"\"\"\n",
    "    SELECT table_name \n",
    "    FROM information_schema.tables \n",
    "    WHERE table_schema = 'public'\"\"\")\n",
    "\n",
    "res = cur.fetchall()\n",
    "\n",
    "if res:\n",
    "    for table_name in res:\n",
    "        cur.execute(f\"\"\"DROP TABLE {table_name[0]} \"\"\")\n",
    "        print(f\"Tabela {table_name} apagada.\")\n",
    "else:\n",
    "    print(f\"Não há tabelas em {DB_NAME}\")\n",
    "\n",
    "conn.commit()"
   ]
  },
  {
   "cell_type": "markdown",
   "id": "9de37892",
   "metadata": {},
   "source": [
    "## Carregar arquivos CSV para tabelas com mesmo nome"
   ]
  },
  {
   "cell_type": "code",
   "execution_count": 10,
   "id": "718432b2",
   "metadata": {},
   "outputs": [
    {
     "name": "stdout",
     "output_type": "stream",
     "text": [
      "Arquivo datasets/dm_acao.csv carregado para tabela dm_acao\n",
      "Arquivo datasets/dm_categ_econ.csv carregado para tabela dm_categ_econ\n",
      "Arquivo datasets/dm_elemento_desp.csv carregado para tabela dm_elemento_desp\n",
      "Arquivo datasets/dm_empenho_desp_2002.csv carregado para tabela dm_empenho_desp_2002\n",
      "Arquivo datasets/dm_empenho_desp_2003.csv carregado para tabela dm_empenho_desp_2003\n",
      "Arquivo datasets/dm_empenho_desp_2004.csv carregado para tabela dm_empenho_desp_2004\n",
      "Arquivo datasets/dm_empenho_desp_2005.csv carregado para tabela dm_empenho_desp_2005\n",
      "Arquivo datasets/dm_empenho_desp_2006.csv carregado para tabela dm_empenho_desp_2006\n"
     ]
    }
   ],
   "source": [
    "file_paths = [i.replace('\\\\', '/') for i in list(glob.iglob(f'{CSV_PATH}*.csv'))]\n",
    "\n",
    "for file in file_paths:\n",
    "    _ , tail = os.path.split(file)\n",
    "    table_name , file_extension = os.path.splitext(tail)\n",
    "    #print(file)\n",
    "\n",
    "    df = pd.read_csv(file, delimiter=';', decimal=',')\n",
    "    df.to_sql(table_name, con, if_exists='replace', index=False) # if_exists{‘fail’, ‘replace’, ‘append’}, default ‘fail’\n",
    "    print(f\"Arquivo {file} carregado para tabela {table_name}\")\n",
    "     \n",
    "con.commit()"
   ]
  },
  {
   "cell_type": "markdown",
   "id": "acf9e560",
   "metadata": {},
   "source": [
    "## Mostrar todas a tabelas de uma Database"
   ]
  },
  {
   "cell_type": "code",
   "execution_count": 17,
   "id": "247dfcc6",
   "metadata": {},
   "outputs": [
    {
     "name": "stdout",
     "output_type": "stream",
     "text": [
      "Não há tabelas na database dadosmg\n"
     ]
    }
   ],
   "source": [
    "cur.execute(\"\"\"\n",
    "    SELECT table_name \n",
    "    FROM information_schema.tables \n",
    "    WHERE table_schema = 'public'\"\"\")\n",
    "res = cur.fetchall()\n",
    "\n",
    "if res:\n",
    "    print(res)\n",
    "else:\n",
    "    print(f\"Não há tabelas na database {DB_NAME}\")\n"
   ]
  },
  {
   "cell_type": "code",
   "execution_count": 30,
   "id": "5da1514f",
   "metadata": {},
   "outputs": [
    {
     "name": "stdout",
     "output_type": "stream",
     "text": [
      "Lendo: datasets/dm_empenho_desp_2002.csv\n",
      "Arquivo datasets/dm_empenho_desp_2002.csv concatenado na tabela dm_empenho_desp\n",
      "Lendo: datasets/dm_empenho_desp_2003.csv\n",
      "Arquivo datasets/dm_empenho_desp_2003.csv concatenado na tabela dm_empenho_desp\n",
      "Lendo: datasets/dm_empenho_desp_2004.csv\n",
      "Arquivo datasets/dm_empenho_desp_2004.csv concatenado na tabela dm_empenho_desp\n",
      "Lendo: datasets/dm_empenho_desp_2005.csv\n",
      "Arquivo datasets/dm_empenho_desp_2005.csv concatenado na tabela dm_empenho_desp\n",
      "Lendo: datasets/dm_empenho_desp_2006.csv\n",
      "Arquivo datasets/dm_empenho_desp_2006.csv concatenado na tabela dm_empenho_desp\n"
     ]
    }
   ],
   "source": [
    "tbl_agg_name = 'dm_empenho_desp'\n",
    "df_agg = pd.DataFrame()\n",
    "num_linhas = 0\n",
    "\n",
    "file_paths = [i.replace('\\\\', '/') for i in list(glob.iglob(f'{CSV_PATH}dm_empenho_desp_*.csv'))]\n",
    "file_paths\n",
    "\n",
    "#temp_csv = con.execute(f\"\"\"SELECT * FROM '{file_paths[0]}' LIMIT 10 \"\"\")\n",
    "\n",
    "# cria lista contendo nomes e tipos das colunas lidas em temp_csv\n",
    "#table_columns = [str(temp_csv.columns[i] + ' ' + temp_csv.dtypes[i]) for i in range(len(temp_csv.columns))]\n",
    "\n",
    "# Concatena lista de strings em uma string somente para uso na criação da tabela nova.\n",
    "#table_columns = ', '.join(table_columns)\n",
    "\n",
    "\n",
    "#con.execute(f\"\"\"CREATE TABLE '{tbl_agg_name}' AS SELECT * FROM df_agg \"\"\") \n",
    "\n",
    "for file in file_paths:\n",
    "    _ , tail = os.path.split(file)\n",
    "    table_name , file_extension = os.path.splitext(tail)   \n",
    "    print(f'Lendo:', file)\n",
    "    \n",
    "    df = pd.read_csv(file, delimiter=';', decimal=',')\n",
    "    df.to_sql(tbl_agg_name, con, if_exists='append', index=False) # if_exists{‘fail’, ‘replace’, ‘append’}, default ‘fail’\n",
    "    \n",
    "    num_linhas += len(df)\n",
    "    print(f\"Arquivo {file} concatenado na tabela {tbl_agg_name}\\n\n",
    "      \n",
    "\n",
    "\n",
    "con.commit()"
   ]
  },
  {
   "cell_type": "markdown",
   "id": "25b4d623",
   "metadata": {},
   "source": [
    "## Fecha conexção com base de dados"
   ]
  },
  {
   "cell_type": "code",
   "execution_count": null,
   "id": "c421042f",
   "metadata": {},
   "outputs": [],
   "source": [
    "con.close()"
   ]
  }
 ],
 "metadata": {
  "kernelspec": {
   "display_name": "Python 3 (ipykernel)",
   "language": "python",
   "name": "python3"
  },
  "language_info": {
   "codemirror_mode": {
    "name": "ipython",
    "version": 3
   },
   "file_extension": ".py",
   "mimetype": "text/x-python",
   "name": "python",
   "nbconvert_exporter": "python",
   "pygments_lexer": "ipython3",
   "version": "3.11.2"
  }
 },
 "nbformat": 4,
 "nbformat_minor": 5
}
